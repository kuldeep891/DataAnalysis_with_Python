{
 "cells": [
  {
   "cell_type": "code",
   "execution_count": 178,
   "metadata": {},
   "outputs": [],
   "source": [
    "import pandas as pd\n",
    "import warnings\n",
    "warnings.filterwarnings('ignore')"
   ]
  },
  {
   "cell_type": "code",
   "execution_count": 179,
   "metadata": {},
   "outputs": [
    {
     "data": {
      "text/html": [
       "<div>\n",
       "<style scoped>\n",
       "    .dataframe tbody tr th:only-of-type {\n",
       "        vertical-align: middle;\n",
       "    }\n",
       "\n",
       "    .dataframe tbody tr th {\n",
       "        vertical-align: top;\n",
       "    }\n",
       "\n",
       "    .dataframe thead th {\n",
       "        text-align: right;\n",
       "    }\n",
       "</style>\n",
       "<table border=\"1\" class=\"dataframe\">\n",
       "  <thead>\n",
       "    <tr style=\"text-align: right;\">\n",
       "      <th></th>\n",
       "      <th>age</th>\n",
       "      <th>sex</th>\n",
       "      <th>cp</th>\n",
       "      <th>trestbps</th>\n",
       "      <th>chol</th>\n",
       "      <th>fbs</th>\n",
       "      <th>restecg</th>\n",
       "      <th>thalach</th>\n",
       "      <th>exang</th>\n",
       "      <th>oldpeak</th>\n",
       "      <th>slope</th>\n",
       "      <th>ca</th>\n",
       "      <th>thal</th>\n",
       "      <th>target</th>\n",
       "    </tr>\n",
       "  </thead>\n",
       "  <tbody>\n",
       "    <tr>\n",
       "      <th>0</th>\n",
       "      <td>63.0</td>\n",
       "      <td>1</td>\n",
       "      <td>3.0</td>\n",
       "      <td>145.0</td>\n",
       "      <td>233.0</td>\n",
       "      <td>1</td>\n",
       "      <td>0.0</td>\n",
       "      <td>150.0</td>\n",
       "      <td>0</td>\n",
       "      <td>2.3</td>\n",
       "      <td>0</td>\n",
       "      <td>0</td>\n",
       "      <td>1.0</td>\n",
       "      <td>1</td>\n",
       "    </tr>\n",
       "    <tr>\n",
       "      <th>1</th>\n",
       "      <td>37.0</td>\n",
       "      <td>1</td>\n",
       "      <td>2.0</td>\n",
       "      <td>130.0</td>\n",
       "      <td>NaN</td>\n",
       "      <td>0</td>\n",
       "      <td>1.0</td>\n",
       "      <td>187.0</td>\n",
       "      <td>0</td>\n",
       "      <td>3.5</td>\n",
       "      <td>0</td>\n",
       "      <td>0</td>\n",
       "      <td>2.0</td>\n",
       "      <td>1</td>\n",
       "    </tr>\n",
       "    <tr>\n",
       "      <th>2</th>\n",
       "      <td>41.0</td>\n",
       "      <td>0</td>\n",
       "      <td>1.0</td>\n",
       "      <td>130.0</td>\n",
       "      <td>204.0</td>\n",
       "      <td>0</td>\n",
       "      <td>0.0</td>\n",
       "      <td>172.0</td>\n",
       "      <td>0</td>\n",
       "      <td>1.4</td>\n",
       "      <td>2</td>\n",
       "      <td>0</td>\n",
       "      <td>2.0</td>\n",
       "      <td>1</td>\n",
       "    </tr>\n",
       "    <tr>\n",
       "      <th>3</th>\n",
       "      <td>56.0</td>\n",
       "      <td>1</td>\n",
       "      <td>1.0</td>\n",
       "      <td>120.0</td>\n",
       "      <td>236.0</td>\n",
       "      <td>0</td>\n",
       "      <td>1.0</td>\n",
       "      <td>178.0</td>\n",
       "      <td>0</td>\n",
       "      <td>0.8</td>\n",
       "      <td>2</td>\n",
       "      <td>0</td>\n",
       "      <td>2.0</td>\n",
       "      <td>1</td>\n",
       "    </tr>\n",
       "    <tr>\n",
       "      <th>4</th>\n",
       "      <td>57.0</td>\n",
       "      <td>0</td>\n",
       "      <td>0.0</td>\n",
       "      <td>120.0</td>\n",
       "      <td>354.0</td>\n",
       "      <td>0</td>\n",
       "      <td>1.0</td>\n",
       "      <td>163.0</td>\n",
       "      <td>1</td>\n",
       "      <td>0.6</td>\n",
       "      <td>2</td>\n",
       "      <td>0</td>\n",
       "      <td>2.0</td>\n",
       "      <td>1</td>\n",
       "    </tr>\n",
       "  </tbody>\n",
       "</table>\n",
       "</div>"
      ],
      "text/plain": [
       "    age  sex   cp  trestbps   chol  fbs  restecg  thalach  exang  oldpeak  \\\n",
       "0  63.0    1  3.0     145.0  233.0    1      0.0    150.0      0      2.3   \n",
       "1  37.0    1  2.0     130.0    NaN    0      1.0    187.0      0      3.5   \n",
       "2  41.0    0  1.0     130.0  204.0    0      0.0    172.0      0      1.4   \n",
       "3  56.0    1  1.0     120.0  236.0    0      1.0    178.0      0      0.8   \n",
       "4  57.0    0  0.0     120.0  354.0    0      1.0    163.0      1      0.6   \n",
       "\n",
       "   slope  ca  thal  target  \n",
       "0      0   0   1.0       1  \n",
       "1      0   0   2.0       1  \n",
       "2      2   0   2.0       1  \n",
       "3      2   0   2.0       1  \n",
       "4      2   0   2.0       1  "
      ]
     },
     "execution_count": 179,
     "metadata": {},
     "output_type": "execute_result"
    }
   ],
   "source": [
    "data = pd.read_csv(r'C:\\Users\\kukumar\\OneDrive - AMDOCS\\Backup Folders\\Documents\\GitHub\\LearningPython\\DataAnalysis_with_Python\\heart_dataset\\heart_dataset_updated.csv')\n",
    "data.head(5)"
   ]
  },
  {
   "cell_type": "markdown",
   "metadata": {},
   "source": [
    "## Apply Logistic Regression, KNearest Neighbour Classifier, Decision Tree, Random Forest to test which gives the better outocome\n",
    "\n",
    "Things to do : \n",
    "    > Keep Random State Fixed\n",
    "    > Vary the n_estimators or k-value for KNN\n",
    "    > using loop to vary estimators as per the algoruithm used\n",
    "    > Plot the graps for every varied estimators"
   ]
  },
  {
   "cell_type": "code",
   "execution_count": 180,
   "metadata": {},
   "outputs": [
    {
     "name": "stdout",
     "output_type": "stream",
     "text": [
      "<class 'pandas.core.frame.DataFrame'>\n",
      "RangeIndex: 303 entries, 0 to 302\n",
      "Data columns (total 14 columns):\n",
      "age         299 non-null float64\n",
      "sex         303 non-null int64\n",
      "cp          297 non-null float64\n",
      "trestbps    299 non-null float64\n",
      "chol        299 non-null float64\n",
      "fbs         303 non-null int64\n",
      "restecg     302 non-null float64\n",
      "thalach     300 non-null float64\n",
      "exang       303 non-null int64\n",
      "oldpeak     303 non-null float64\n",
      "slope       303 non-null int64\n",
      "ca          303 non-null int64\n",
      "thal        302 non-null float64\n",
      "target      303 non-null int64\n",
      "dtypes: float64(8), int64(6)\n",
      "memory usage: 33.2 KB\n"
     ]
    }
   ],
   "source": [
    "data.info()"
   ]
  },
  {
   "cell_type": "code",
   "execution_count": 181,
   "metadata": {},
   "outputs": [
    {
     "data": {
      "text/plain": [
       "age         4\n",
       "sex         0\n",
       "cp          6\n",
       "trestbps    4\n",
       "chol        4\n",
       "fbs         0\n",
       "restecg     1\n",
       "thalach     3\n",
       "exang       0\n",
       "oldpeak     0\n",
       "slope       0\n",
       "ca          0\n",
       "thal        1\n",
       "target      0\n",
       "dtype: int64"
      ]
     },
     "execution_count": 181,
     "metadata": {},
     "output_type": "execute_result"
    }
   ],
   "source": [
    "data.isnull().sum()"
   ]
  },
  {
   "cell_type": "code",
   "execution_count": 186,
   "metadata": {},
   "outputs": [
    {
     "ename": "NameError",
     "evalue": "name 'fillna' is not defined",
     "output_type": "error",
     "traceback": [
      "\u001b[1;31m---------------------------------------------------------------------------\u001b[0m",
      "\u001b[1;31mNameError\u001b[0m                                 Traceback (most recent call last)",
      "\u001b[1;32m<ipython-input-186-7f920a44c513>\u001b[0m in \u001b[0;36m<module>\u001b[1;34m\u001b[0m\n\u001b[0;32m      1\u001b[0m \u001b[1;31m#data.age.isnull()\u001b[0m\u001b[1;33m\u001b[0m\u001b[1;33m\u001b[0m\u001b[1;33m\u001b[0m\u001b[0m\n\u001b[1;32m----> 2\u001b[1;33m \u001b[0mhelp\u001b[0m\u001b[1;33m(\u001b[0m\u001b[0mfillna\u001b[0m\u001b[1;33m)\u001b[0m\u001b[1;33m\u001b[0m\u001b[1;33m\u001b[0m\u001b[0m\n\u001b[0m",
      "\u001b[1;31mNameError\u001b[0m: name 'fillna' is not defined"
     ]
    }
   ],
   "source": [
    "#data.age.isnull()\n",
    "help(fillna)"
   ]
  },
  {
   "cell_type": "code",
   "execution_count": 123,
   "metadata": {},
   "outputs": [
    {
     "data": {
      "text/plain": [
       "['age',\n",
       " 'sex',\n",
       " 'cp',\n",
       " 'trestbps',\n",
       " 'chol',\n",
       " 'fbs',\n",
       " 'restecg',\n",
       " 'thalach',\n",
       " 'exang',\n",
       " 'oldpeak',\n",
       " 'slope',\n",
       " 'ca',\n",
       " 'thal',\n",
       " 'target']"
      ]
     },
     "execution_count": 123,
     "metadata": {},
     "output_type": "execute_result"
    }
   ],
   "source": [
    "colist=data.columns\n",
    "colist.tolist()"
   ]
  },
  {
   "cell_type": "markdown",
   "metadata": {},
   "source": [
    "### Remove Not Null Values\n",
    "### Check again with padding"
   ]
  },
  {
   "cell_type": "code",
   "execution_count": 124,
   "metadata": {},
   "outputs": [
    {
     "name": "stdout",
     "output_type": "stream",
     "text": [
      "<class 'pandas.core.frame.DataFrame'>\n",
      "Int64Index: 283 entries, 0 to 302\n",
      "Data columns (total 14 columns):\n",
      "age         283 non-null float64\n",
      "sex         283 non-null int64\n",
      "cp          283 non-null float64\n",
      "trestbps    283 non-null float64\n",
      "chol        283 non-null float64\n",
      "fbs         283 non-null int64\n",
      "restecg     283 non-null float64\n",
      "thalach     283 non-null float64\n",
      "exang       283 non-null int64\n",
      "oldpeak     283 non-null float64\n",
      "slope       283 non-null int64\n",
      "ca          283 non-null int64\n",
      "thal        283 non-null float64\n",
      "target      283 non-null int64\n",
      "dtypes: float64(8), int64(6)\n",
      "memory usage: 33.2 KB\n"
     ]
    }
   ],
   "source": [
    "#data=data.fillna(method='pad')\n",
    "data = data.dropna()\n",
    "data.info()"
   ]
  },
  {
   "cell_type": "code",
   "execution_count": 125,
   "metadata": {},
   "outputs": [
    {
     "data": {
      "text/plain": [
       "age         0\n",
       "sex         0\n",
       "cp          0\n",
       "trestbps    0\n",
       "chol        0\n",
       "fbs         0\n",
       "restecg     0\n",
       "thalach     0\n",
       "exang       0\n",
       "oldpeak     0\n",
       "slope       0\n",
       "ca          0\n",
       "thal        0\n",
       "target      0\n",
       "dtype: int64"
      ]
     },
     "execution_count": 125,
     "metadata": {},
     "output_type": "execute_result"
    }
   ],
   "source": [
    "data.isnull().sum()"
   ]
  },
  {
   "cell_type": "markdown",
   "metadata": {},
   "source": [
    "### Use Standard Scaler and Split into test - train datasets"
   ]
  },
  {
   "cell_type": "code",
   "execution_count": 126,
   "metadata": {},
   "outputs": [
    {
     "data": {
      "text/html": [
       "<div>\n",
       "<style scoped>\n",
       "    .dataframe tbody tr th:only-of-type {\n",
       "        vertical-align: middle;\n",
       "    }\n",
       "\n",
       "    .dataframe tbody tr th {\n",
       "        vertical-align: top;\n",
       "    }\n",
       "\n",
       "    .dataframe thead th {\n",
       "        text-align: right;\n",
       "    }\n",
       "</style>\n",
       "<table border=\"1\" class=\"dataframe\">\n",
       "  <thead>\n",
       "    <tr style=\"text-align: right;\">\n",
       "      <th></th>\n",
       "      <th>age</th>\n",
       "      <th>sex</th>\n",
       "      <th>cp</th>\n",
       "      <th>trestbps</th>\n",
       "      <th>chol</th>\n",
       "      <th>fbs</th>\n",
       "      <th>restecg</th>\n",
       "      <th>thalach</th>\n",
       "      <th>exang</th>\n",
       "      <th>oldpeak</th>\n",
       "      <th>slope</th>\n",
       "      <th>ca</th>\n",
       "      <th>thal</th>\n",
       "    </tr>\n",
       "  </thead>\n",
       "  <tbody>\n",
       "    <tr>\n",
       "      <th>0</th>\n",
       "      <td>63.0</td>\n",
       "      <td>1</td>\n",
       "      <td>3.0</td>\n",
       "      <td>145.0</td>\n",
       "      <td>233.0</td>\n",
       "      <td>1</td>\n",
       "      <td>0.0</td>\n",
       "      <td>150.0</td>\n",
       "      <td>0</td>\n",
       "      <td>2.3</td>\n",
       "      <td>0</td>\n",
       "      <td>0</td>\n",
       "      <td>1.0</td>\n",
       "    </tr>\n",
       "    <tr>\n",
       "      <th>2</th>\n",
       "      <td>41.0</td>\n",
       "      <td>0</td>\n",
       "      <td>1.0</td>\n",
       "      <td>130.0</td>\n",
       "      <td>204.0</td>\n",
       "      <td>0</td>\n",
       "      <td>0.0</td>\n",
       "      <td>172.0</td>\n",
       "      <td>0</td>\n",
       "      <td>1.4</td>\n",
       "      <td>2</td>\n",
       "      <td>0</td>\n",
       "      <td>2.0</td>\n",
       "    </tr>\n",
       "    <tr>\n",
       "      <th>3</th>\n",
       "      <td>56.0</td>\n",
       "      <td>1</td>\n",
       "      <td>1.0</td>\n",
       "      <td>120.0</td>\n",
       "      <td>236.0</td>\n",
       "      <td>0</td>\n",
       "      <td>1.0</td>\n",
       "      <td>178.0</td>\n",
       "      <td>0</td>\n",
       "      <td>0.8</td>\n",
       "      <td>2</td>\n",
       "      <td>0</td>\n",
       "      <td>2.0</td>\n",
       "    </tr>\n",
       "    <tr>\n",
       "      <th>4</th>\n",
       "      <td>57.0</td>\n",
       "      <td>0</td>\n",
       "      <td>0.0</td>\n",
       "      <td>120.0</td>\n",
       "      <td>354.0</td>\n",
       "      <td>0</td>\n",
       "      <td>1.0</td>\n",
       "      <td>163.0</td>\n",
       "      <td>1</td>\n",
       "      <td>0.6</td>\n",
       "      <td>2</td>\n",
       "      <td>0</td>\n",
       "      <td>2.0</td>\n",
       "    </tr>\n",
       "    <tr>\n",
       "      <th>5</th>\n",
       "      <td>57.0</td>\n",
       "      <td>1</td>\n",
       "      <td>0.0</td>\n",
       "      <td>140.0</td>\n",
       "      <td>192.0</td>\n",
       "      <td>0</td>\n",
       "      <td>1.0</td>\n",
       "      <td>148.0</td>\n",
       "      <td>0</td>\n",
       "      <td>0.4</td>\n",
       "      <td>1</td>\n",
       "      <td>0</td>\n",
       "      <td>1.0</td>\n",
       "    </tr>\n",
       "  </tbody>\n",
       "</table>\n",
       "</div>"
      ],
      "text/plain": [
       "    age  sex   cp  trestbps   chol  fbs  restecg  thalach  exang  oldpeak  \\\n",
       "0  63.0    1  3.0     145.0  233.0    1      0.0    150.0      0      2.3   \n",
       "2  41.0    0  1.0     130.0  204.0    0      0.0    172.0      0      1.4   \n",
       "3  56.0    1  1.0     120.0  236.0    0      1.0    178.0      0      0.8   \n",
       "4  57.0    0  0.0     120.0  354.0    0      1.0    163.0      1      0.6   \n",
       "5  57.0    1  0.0     140.0  192.0    0      1.0    148.0      0      0.4   \n",
       "\n",
       "   slope  ca  thal  \n",
       "0      0   0   1.0  \n",
       "2      2   0   2.0  \n",
       "3      2   0   2.0  \n",
       "4      2   0   2.0  \n",
       "5      1   0   1.0  "
      ]
     },
     "execution_count": 126,
     "metadata": {},
     "output_type": "execute_result"
    }
   ],
   "source": [
    "X = data.drop(['target'],axis='columns')\n",
    "X.head()\n",
    "#type(X)"
   ]
  },
  {
   "cell_type": "code",
   "execution_count": 128,
   "metadata": {},
   "outputs": [],
   "source": [
    "Y = data['target'].values\n",
    "#Y.head(5)\n",
    "#type(Y)"
   ]
  },
  {
   "cell_type": "code",
   "execution_count": 129,
   "metadata": {},
   "outputs": [],
   "source": [
    "from sklearn.model_selection import train_test_split\n",
    "from sklearn.preprocessing import StandardScaler\n",
    "\n",
    "sc = StandardScaler()\n",
    "x = sc.fit_transform(X)\n"
   ]
  },
  {
   "cell_type": "code",
   "execution_count": 132,
   "metadata": {},
   "outputs": [],
   "source": [
    "x_train,x_test,y_train,y_test = train_test_split(x,Y,random_state= 100,test_size = 0.2)"
   ]
  },
  {
   "cell_type": "code",
   "execution_count": 134,
   "metadata": {},
   "outputs": [
    {
     "data": {
      "text/plain": [
       "array([[ 0.59819174,  0.66624136,  1.08529782,  0.48820256, -1.20051101,\n",
       "        -0.40572041, -0.99934752,  0.26582223, -0.71649772,  1.65154631,\n",
       "        -0.64869036, -0.74071718, -0.52121509],\n",
       "       [ 1.2612006 ,  0.66624136, -0.88354374,  1.62020849, -0.35688807,\n",
       "        -0.40572041, -0.99934752, -0.47043037, -0.71649772,  1.05841483,\n",
       "         1.00517785, -0.74071718, -2.12451803],\n",
       "       [ 0.92969617, -1.50095755, -0.88354374,  1.05420552,  3.15493766,\n",
       "        -0.40572041, -0.99934752,  0.22251326, -0.71649772,  2.49887699,\n",
       "        -0.64869036,  2.14400248,  1.08208785],\n",
       "       [ 0.15618583,  0.66624136, -0.88354374,  0.03540019, -1.22013015,\n",
       "        -0.40572041, -0.99934752, -1.89962659,  1.39567785,  0.88894869,\n",
       "        -0.64869036,  0.22085604, -2.12451803],\n",
       "       [-0.61732451,  0.66624136,  1.08529782, -0.75700397, -1.90679998,\n",
       "        -0.40572041, -0.99934752, -0.99013808, -0.71649772, -0.2125812 ,\n",
       "         1.00517785,  2.14400248, -0.52121509],\n",
       "       [-0.39632155, -1.50095755,  1.08529782, -0.64380337,  0.95759419,\n",
       "        -0.40572041, -0.99934752,  0.35244019, -0.71649772, -0.38204733,\n",
       "         1.00517785, -0.74071718, -0.52121509],\n",
       "       [ 0.26668731,  0.66624136, -0.88354374, -1.20980634, -0.8866048 ,\n",
       "        -0.40572041,  0.89874206, -0.99013808,  1.39567785,  0.38055028,\n",
       "        -0.64869036, -0.74071718, -2.12451803],\n",
       "       [-0.06481712,  0.66624136,  0.10087704, -1.32300693,  1.23226212,\n",
       "        -0.40572041,  0.89874206,  0.30913121, -0.71649772, -0.89044574,\n",
       "         1.00517785, -0.74071718,  1.08208785],\n",
       "       [ 1.15069913,  0.66624136, -0.88354374, -1.20980634,  0.0354947 ,\n",
       "        -0.40572041, -0.99934752,  0.39574916, -0.71649772, -0.38204733,\n",
       "         1.00517785,  1.18242926, -2.12451803],\n",
       "       [ 0.8191947 ,  0.66624136,  0.10087704, -0.64380337,  0.68292625,\n",
       "        -0.40572041, -0.99934752, -1.98624454, -0.71649772,  0.29581721,\n",
       "        -0.64869036,  0.22085604,  1.08208785],\n",
       "       [-0.06481712,  0.66624136, -0.88354374, -0.53060278,  0.78102195,\n",
       "        -0.40572041, -0.99934752, -1.42322785,  1.39567785,  1.82101244,\n",
       "        -0.64869036,  1.18242926, -0.52121509],\n",
       "       [ 2.47671685,  0.66624136, -0.88354374, -0.36080189,  1.13416643,\n",
       "        -0.40572041, -0.99934752,  0.56898507,  1.39567785, -0.89044574,\n",
       "         1.00517785,  2.14400248, -0.52121509],\n",
       "       [ 0.48769026,  0.66624136, -0.88354374,  0.48820256, -1.35746411,\n",
       "        -0.40572041,  0.89874206,  0.56898507,  1.39567785, -0.89044574,\n",
       "         1.00517785,  0.22085604,  1.08208785],\n",
       "       [ 1.04019765,  0.66624136, -0.88354374, -0.64380337, -0.00374358,\n",
       "        -0.40572041, -0.99934752, -2.28940737,  1.39567785,  0.97368176,\n",
       "        -2.30255857,  0.22085604, -0.52121509],\n",
       "       [-1.72233928, -1.50095755,  1.08529782, -2.11541108, -0.92584307,\n",
       "        -0.40572041,  0.89874206,  1.30523767, -0.71649772, -0.89044574,\n",
       "         1.00517785, -0.74071718, -0.52121509],\n",
       "       [ 0.48769026,  0.66624136, -0.88354374,  2.18621146,  1.56578747,\n",
       "        -0.40572041, -0.99934752, -0.38381241,  1.39567785,  1.99047858,\n",
       "        -2.30255857, -0.74071718,  1.08208785],\n",
       "       [-1.39083485, -1.50095755, -0.88354374, -1.66260871,  0.36902004,\n",
       "        -0.40572041, -0.99934752, -1.16337399, -0.71649772, -0.38204733,\n",
       "        -0.64869036, -0.74071718, -0.52121509],\n",
       "       [-0.39632155,  0.66624136,  1.08529782, -1.77580931, -0.4746029 ,\n",
       "        -0.40572041,  0.89874206, -0.25388548,  1.39567785,  0.12635108,\n",
       "        -0.64869036, -0.74071718, -0.52121509],\n",
       "       [ 0.37718879, -1.50095755, -0.88354374, -1.77580931,  0.0354947 ,\n",
       "        -0.40572041, -0.99934752, -1.16337399, -0.71649772, -0.04311506,\n",
       "        -0.64869036, -0.74071718, -0.52121509],\n",
       "       [ 0.59819174, -1.50095755, -0.88354374,  1.05420552,  0.23168608,\n",
       "        -0.40572041, -0.99934752,  0.35244019, -0.71649772,  1.31261403,\n",
       "        -0.64869036,  1.18242926,  1.08208785],\n",
       "       [ 0.26668731,  0.66624136, -0.88354374, -0.07780041, -2.25994447,\n",
       "        -0.40572041,  0.89874206, -1.46653682,  1.39567785,  0.12635108,\n",
       "        -0.64869036,  0.22085604,  1.08208785],\n",
       "       [ 0.26668731,  0.66624136, -0.88354374,  1.05420552,  0.58483056,\n",
       "        -0.40572041, -0.99934752, -1.59646375,  1.39567785, -0.38204733,\n",
       "        -0.64869036,  0.22085604, -2.12451803],\n",
       "       [-0.28582008,  0.66624136, -0.88354374, -0.191001  , -0.82774738,\n",
       "         2.46475151,  0.89874206,  0.30913121,  1.39567785, -0.04311506,\n",
       "        -0.64869036, -0.74071718, -3.72782096],\n",
       "       [ 0.37718879,  0.66624136,  1.08529782, -1.49280782, -0.12145841,\n",
       "        -0.40572041, -0.99934752,  0.22251326,  1.39567785, -0.38204733,\n",
       "        -0.64869036, -0.74071718,  1.08208785],\n",
       "       [-1.50133632,  0.66624136,  1.08529782, -1.09660575,  0.07473297,\n",
       "        -0.40572041,  0.89874206,  1.30523767, -0.71649772, -0.89044574,\n",
       "         1.00517785, -0.74071718, -0.52121509],\n",
       "       [ 0.37718879,  0.66624136, -0.88354374, -0.191001  , -0.59231773,\n",
       "        -0.40572041, -0.99934752, -0.7735932 ,  1.39567785,  0.97368176,\n",
       "        -0.64869036,  2.14400248,  1.08208785],\n",
       "       [-1.16983189,  0.66624136, -0.88354374, -0.64380337, -1.51441722,\n",
       "        -0.40572041,  0.89874206, -0.21057651,  1.39567785,  1.48208017,\n",
       "        -2.30255857, -0.74071718, -2.12451803],\n",
       "       [ 1.15069913, -1.50095755, -0.88354374,  1.05420552, -0.41574548,\n",
       "        -0.40572041, -0.99934752, -1.5098458 , -0.71649772, -0.04311506,\n",
       "        -0.64869036,  2.14400248,  1.08208785],\n",
       "       [ 0.8191947 , -1.50095755, -0.88354374,  0.37500197,  0.93797505,\n",
       "         2.46475151,  0.89874206, -1.85631761, -0.71649772,  0.71948256,\n",
       "        -0.64869036,  2.14400248, -0.52121509],\n",
       "       [-1.50133632,  0.66624136, -0.88354374, -1.20980634, -1.45555981,\n",
       "        -0.40572041, -0.99934752,  0.39574916, -0.71649772, -0.89044574,\n",
       "         1.00517785, -0.74071718,  1.08208785],\n",
       "       [-0.94882894, -1.50095755,  0.10087704, -1.49280782, -0.82774738,\n",
       "        -0.40572041,  0.89874206,  1.00207483, -0.71649772, -0.89044574,\n",
       "         1.00517785, -0.74071718, -0.52121509],\n",
       "       [-1.50133632, -1.50095755,  0.10087704, -0.07780041, -0.82774738,\n",
       "        -0.40572041, -0.99934752,  1.00207483, -0.71649772,  0.29581721,\n",
       "         1.00517785, -0.74071718, -0.52121509],\n",
       "       [-0.39632155, -1.50095755,  1.08529782,  0.48820256,  1.21264299,\n",
       "        -0.40572041, -0.99934752, -0.29719446, -0.71649772,  0.38055028,\n",
       "         1.00517785,  0.22085604, -0.52121509],\n",
       "       [-0.1753186 ,  0.66624136, -0.88354374,  0.60140315, -0.39612634,\n",
       "        -0.40572041, -0.99934752, -1.63977273,  1.39567785, -0.89044574,\n",
       "         1.00517785, -0.74071718,  1.08208785],\n",
       "       [-0.50682303,  0.66624136,  1.08529782,  0.48820256, -0.25879238,\n",
       "        -0.40572041,  0.89874206,  0.61229404, -0.71649772, -0.38204733,\n",
       "        -0.64869036,  0.22085604,  1.08208785],\n",
       "       [ 1.04019765,  0.66624136,  1.08529782,  0.48820256,  1.74235972,\n",
       "        -0.40572041,  0.89874206,  0.39574916, -0.71649772, -0.89044574,\n",
       "         1.00517785, -0.74071718, -0.52121509],\n",
       "       [-0.72782598,  0.66624136, -0.88354374, -0.07780041,  0.1924478 ,\n",
       "         2.46475151, -0.99934752,  0.04927735,  1.39567785, -0.89044574,\n",
       "         1.00517785,  1.18242926,  1.08208785],\n",
       "       [-1.50133632,  0.66624136,  0.10087704, -0.64380337, -1.74984688,\n",
       "        -0.40572041,  0.89874206,  1.4351646 , -0.71649772, -0.89044574,\n",
       "         1.00517785, -0.74071718, -0.52121509],\n",
       "       [-1.39083485,  0.66624136,  0.10087704, -0.64380337,  0.95759419,\n",
       "        -0.40572041,  0.89874206,  0.56898507, -0.71649772, -0.89044574,\n",
       "         1.00517785, -0.74071718, -0.52121509],\n",
       "       [ 0.70869322,  0.66624136, -0.88354374,  0.48820256, -0.76888997,\n",
       "        -0.40572041, -0.99934752, -0.47043037,  1.39567785,  0.71948256,\n",
       "         1.00517785,  0.22085604,  1.08208785],\n",
       "       [ 0.59819174,  0.66624136, -0.88354374,  0.77120404,  0.70254539,\n",
       "        -0.40572041, -0.99934752, -0.29719446,  1.39567785,  1.48208017,\n",
       "        -0.64869036,  1.18242926,  1.08208785],\n",
       "       [ 0.15618583,  0.66624136,  0.10087704, -0.07780041, -0.49422204,\n",
       "        -0.40572041, -0.99934752,  0.61229404, -0.71649772, -0.89044574,\n",
       "         1.00517785, -0.74071718,  1.08208785],\n",
       "       [ 0.59819174,  0.66624136, -0.88354374, -0.81360426, -0.31764979,\n",
       "         2.46475151,  0.89874206,  0.48236711,  1.39567785,  0.29581721,\n",
       "         1.00517785,  1.18242926,  1.08208785],\n",
       "       [ 1.81370799, -1.50095755,  1.08529782, -1.20980634,  0.36902004,\n",
       "         2.46475151, -0.99934752, -0.81690218, -0.71649772, -0.89044574,\n",
       "         1.00517785,  0.22085604, -0.52121509],\n",
       "       [-0.61732451, -1.50095755,  0.10087704,  0.14860078,  0.48673487,\n",
       "        -0.40572041,  0.89874206,  0.56898507, -0.71649772, -0.89044574,\n",
       "        -0.64869036, -0.74071718, -0.52121509],\n",
       "       [-0.1753186 , -1.50095755, -0.88354374,  0.37500197, -0.23917324,\n",
       "        -0.40572041, -0.99934752,  0.48236711, -0.71649772, -0.89044574,\n",
       "         1.00517785, -0.74071718, -0.52121509],\n",
       "       [-0.50682303,  0.66624136, -0.88354374,  0.71460374, -0.90622394,\n",
       "        -0.40572041, -0.99934752, -0.99013808,  1.39567785, -0.12784813,\n",
       "        -0.64869036, -0.74071718,  1.08208785],\n",
       "       [-0.28582008, -1.50095755,  1.08529782,  0.26180137, -0.98470049,\n",
       "        -0.40572041, -0.99934752,  0.8721479 , -0.71649772, -0.80571267,\n",
       "        -0.64869036, -0.74071718, -0.52121509],\n",
       "       [-1.28033337, -1.50095755, -0.88354374,  0.03540019,  1.86007454,\n",
       "         2.46475151, -0.99934752, -0.55704832,  1.39567785,  1.65154631,\n",
       "        -0.64869036, -0.74071718,  1.08208785],\n",
       "       [ 1.48220356, -1.50095755,  1.08529782, -0.64380337, -0.69041342,\n",
       "        -0.40572041, -0.99934752, -1.46653682, -0.71649772,  0.38055028,\n",
       "        -0.64869036, -0.74071718, -0.52121509],\n",
       "       [ 0.48769026, -1.50095755, -0.88354374,  2.41261264,  0.05511383,\n",
       "        -0.40572041,  0.89874206, -0.25388548,  1.39567785, -0.89044574,\n",
       "        -0.64869036, -0.74071718, -0.52121509],\n",
       "       [ 1.70320651,  0.66624136, -0.88354374,  0.77120404, -1.41632153,\n",
       "        -0.40572041,  0.89874206, -1.03344706,  1.39567785,  1.31261403,\n",
       "        -2.30255857, -0.74071718,  1.08208785],\n",
       "       [-0.06481712,  0.66624136, -0.88354374,  0.48820256, -0.14107755,\n",
       "        -0.40572041,  0.89874206,  0.48236711, -0.71649772,  0.12635108,\n",
       "         1.00517785, -0.74071718, -0.52121509],\n",
       "       [-1.50133632, -1.50095755,  0.10087704, -1.49280782, -0.94546221,\n",
       "        -0.40572041,  0.89874206,  0.82883893, -0.71649772, -0.89044574,\n",
       "         1.00517785,  0.22085604, -0.52121509],\n",
       "       [-1.6118378 ,  0.66624136, -0.88354374,  1.16740612, -0.45498376,\n",
       "        -0.40572041,  0.89874206,  1.39185562, -0.71649772, -0.89044574,\n",
       "         1.00517785, -0.74071718,  1.08208785],\n",
       "       [-0.50682303, -1.50095755,  0.10087704, -0.64380337, -0.04298186,\n",
       "        -0.40572041,  0.89874206,  0.56898507, -0.71649772,  0.04161801,\n",
       "         1.00517785, -0.74071718, -0.52121509],\n",
       "       [ 0.70869322,  0.66624136, -0.88354374,  0.37500197, -1.57327463,\n",
       "        -0.40572041, -0.99934752, -1.03344706,  1.39567785,  2.15994472,\n",
       "        -0.64869036,  0.22085604, -0.52121509]])"
      ]
     },
     "execution_count": 134,
     "metadata": {},
     "output_type": "execute_result"
    }
   ],
   "source": [
    "x_test"
   ]
  },
  {
   "cell_type": "markdown",
   "metadata": {},
   "source": [
    "## Logistic Regression\n",
    "LogisticRegression(C=1.0, class_weight=None, dual=False, fit_intercept=True,\n",
    "          intercept_scaling=1, max_iter=100, multi_class='warn',\n",
    "          n_jobs=None, penalty='l2', random_state=None, solver='warn',\n",
    "          tol=0.0001, verbose=0, warm_start=False)\n"
   ]
  },
  {
   "cell_type": "code",
   "execution_count": 143,
   "metadata": {},
   "outputs": [],
   "source": [
    "from sklearn.linear_model import LogisticRegression\n",
    "from sklearn.metrics import accuracy_score"
   ]
  },
  {
   "cell_type": "code",
   "execution_count": 144,
   "metadata": {},
   "outputs": [
    {
     "data": {
      "text/plain": [
       "array([1, 0, 0, 0, 0, 1, 0, 1, 1, 0, 0, 0, 0, 0, 1, 0, 1, 1, 1, 0, 0, 0,\n",
       "       1, 0, 1, 0, 0, 0, 0, 1, 1, 1, 1, 0, 1, 1, 0, 1, 1, 0, 0, 1, 0, 1,\n",
       "       1, 1, 0, 1, 0, 1, 1, 0, 1, 1, 1, 1, 0], dtype=int64)"
      ]
     },
     "execution_count": 144,
     "metadata": {},
     "output_type": "execute_result"
    }
   ],
   "source": [
    "logreg = LogisticRegression()\n",
    "logreg.fit(x_train,y_train)\n",
    "y_pred = logreg.predict(x_test)\n",
    "\n",
    "y_pred"
   ]
  },
  {
   "cell_type": "code",
   "execution_count": 148,
   "metadata": {},
   "outputs": [
    {
     "data": {
      "text/plain": [
       "0.7894736842105263"
      ]
     },
     "execution_count": 148,
     "metadata": {},
     "output_type": "execute_result"
    }
   ],
   "source": [
    "accuracy_score(y_test,y_pred)"
   ]
  },
  {
   "cell_type": "markdown",
   "metadata": {},
   "source": [
    "## K-Nearest Neighbour Classifier"
   ]
  },
  {
   "cell_type": "code",
   "execution_count": 155,
   "metadata": {},
   "outputs": [
    {
     "data": {
      "text/plain": [
       "0.8421052631578947"
      ]
     },
     "execution_count": 155,
     "metadata": {},
     "output_type": "execute_result"
    }
   ],
   "source": [
    "from sklearn.neighbors import KNeighborsClassifier\n",
    "knn = KNeighborsClassifier()\n",
    "knn.fit(x_train,y_train)\n",
    "y_pred = knn.predict(x_test)\n",
    "accuracy_score(y_pred,y_test)"
   ]
  },
  {
   "cell_type": "markdown",
   "metadata": {},
   "source": [
    "## Decision Tree Classifier with PCA"
   ]
  },
  {
   "cell_type": "code",
   "execution_count": 173,
   "metadata": {},
   "outputs": [
    {
     "data": {
      "text/plain": [
       "array([0.207262  , 0.122092  , 0.10150059, 0.09321094, 0.08226401,\n",
       "       0.07314025, 0.06225239, 0.05814256])"
      ]
     },
     "execution_count": 173,
     "metadata": {},
     "output_type": "execute_result"
    }
   ],
   "source": [
    "from sklearn.decomposition import PCA\n",
    "from sklearn.tree import DecisionTreeClassifier\n",
    "\n",
    "pca = PCA(n_components = 8)\n",
    "\n",
    "x_train_pca = pca.fit_transform(x_train)\n",
    "x_test_pca = pca.transform(x_test)\n",
    "\n",
    "explained_variance = pca.explained_variance_ratio_\n",
    "explained_variance\n"
   ]
  },
  {
   "cell_type": "code",
   "execution_count": 174,
   "metadata": {},
   "outputs": [],
   "source": [
    "classifier = DecisionTreeClassifier()\n",
    "classifier.fit(x_train_pca,y_train)\n",
    "y_pred = classifier.predict(x_test_pca)"
   ]
  },
  {
   "cell_type": "code",
   "execution_count": 175,
   "metadata": {},
   "outputs": [
    {
     "data": {
      "text/plain": [
       "0.7192982456140351"
      ]
     },
     "execution_count": 175,
     "metadata": {},
     "output_type": "execute_result"
    }
   ],
   "source": [
    "accuracy_score(y_pred,y_test)"
   ]
  },
  {
   "cell_type": "markdown",
   "metadata": {},
   "source": [
    "## Random Forest Classifier"
   ]
  },
  {
   "cell_type": "code",
   "execution_count": 177,
   "metadata": {},
   "outputs": [
    {
     "data": {
      "text/plain": [
       "0.7894736842105263"
      ]
     },
     "execution_count": 177,
     "metadata": {},
     "output_type": "execute_result"
    }
   ],
   "source": [
    "from sklearn.ensemble import RandomForestClassifier\n",
    "rsc = RandomForestClassifier()\n",
    "rsc.fit(x_train,y_train)\n",
    "y_pred = rsc.predict(x_test)\n",
    "\n",
    "accuracy_score(y_pred,y_test)"
   ]
  },
  {
   "cell_type": "code",
   "execution_count": null,
   "metadata": {},
   "outputs": [],
   "source": []
  }
 ],
 "metadata": {
  "kernelspec": {
   "display_name": "Python 3",
   "language": "python",
   "name": "python3"
  },
  "language_info": {
   "codemirror_mode": {
    "name": "ipython",
    "version": 3
   },
   "file_extension": ".py",
   "mimetype": "text/x-python",
   "name": "python",
   "nbconvert_exporter": "python",
   "pygments_lexer": "ipython3",
   "version": "3.7.3"
  }
 },
 "nbformat": 4,
 "nbformat_minor": 2
}
